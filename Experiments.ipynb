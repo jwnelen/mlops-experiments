{
 "cells": [
  {
   "cell_type": "code",
   "execution_count": 1,
   "id": "46c39b16",
   "metadata": {},
   "outputs": [
    {
     "name": "stderr",
     "output_type": "stream",
     "text": [
      "Matplotlib is building the font cache; this may take a moment.\n"
     ]
    }
   ],
   "source": [
    "import numpy as np # linear algebra\n",
    "import pandas as pd # data processing, CSV file I/O (e.g. pd.read_csv)\n",
    "import matplotlib.pyplot as plt\n",
    "import seaborn as sns\n",
    "from sklearn.model_selection import train_test_split\n",
    "from sklearn.linear_model import LinearRegression, Lasso\n",
    "from sklearn.ensemble import RandomForestRegressor, GradientBoostingRegressor\n",
    "from sklearn.metrics import mean_squared_log_error\n",
    "from sklearn.model_selection import GridSearchCV\n",
    "from sklearn.ensemble import StackingRegressor"
   ]
  },
  {
   "cell_type": "code",
   "execution_count": 3,
   "id": "1ac28fac",
   "metadata": {},
   "outputs": [],
   "source": [
    "# Load datasets\n",
    "train = pd.read_csv('data/train.csv')\n",
    "test = pd.read_csv('data/test.csv')"
   ]
  },
  {
   "cell_type": "code",
   "execution_count": 4,
   "id": "cfbf7fe4",
   "metadata": {},
   "outputs": [],
   "source": [
    "# Fill missing values for numerical features\n",
    "numerical_features = train.select_dtypes(include=['int64', 'float64']).columns\n",
    "numerical_features = numerical_features.drop('SalePrice')  # Exclude target variable\n",
    "\n",
    "for feature in numerical_features:\n",
    "    train[feature] = train[feature].fillna(train[feature].median())\n",
    "#     if feature in test.columns:\n",
    "    test[feature] = test[feature].fillna(test[feature].median())\n",
    "\n",
    "# Fill missing values for categorical features\n",
    "categorical_features = train.select_dtypes(include=['object']).columns\n",
    "for feature in categorical_features:\n",
    "    train[feature] = train[feature].fillna('None')\n",
    "#     if feature in test.columns:\n",
    "    test[feature] = test[feature].fillna('None')"
   ]
  },
  {
   "cell_type": "code",
   "execution_count": 5,
   "id": "df63a39c",
   "metadata": {},
   "outputs": [],
   "source": [
    "#  Encode categorical variables using one-hot encoding\n",
    "train = pd.get_dummies(train)\n",
    "test = pd.get_dummies(test)\n",
    "\n",
    "# Align the train and test dataframes by the columns\n",
    "train, test = train.align(test, join='left', axis=1, fill_value=0)"
   ]
  },
  {
   "cell_type": "code",
   "execution_count": 6,
   "id": "ceb12119",
   "metadata": {},
   "outputs": [],
   "source": [
    "# Adding these features creates a new feature (TotalSF) that represents the total living space area in the house,\n",
    "# which can be a strong predictor of the house price\n",
    "train['TotalSF'] = train['TotalBsmtSF'] + train['1stFlrSF'] + train['2ndFlrSF']\n",
    "test['TotalSF'] = test['TotalBsmtSF'] + test['1stFlrSF'] + test['2ndFlrSF']"
   ]
  },
  {
   "cell_type": "code",
   "execution_count": 7,
   "id": "eca5ab5c",
   "metadata": {},
   "outputs": [],
   "source": [
    "corr_matrix = train.corr()"
   ]
  },
  {
   "cell_type": "code",
   "execution_count": 8,
   "id": "60cf62f5",
   "metadata": {},
   "outputs": [
    {
     "name": "stdout",
     "output_type": "stream",
     "text": [
      "Index(['SalePrice', 'OverallQual', 'TotalSF', 'GrLivArea', 'GarageCars',\n",
      "       'GarageArea', 'TotalBsmtSF', '1stFlrSF', 'ExterQual_TA', 'FullBath',\n",
      "       'BsmtQual_Ex'],\n",
      "      dtype='object')\n"
     ]
    }
   ],
   "source": [
    "# Selecting top 10 correlated features with SalePrice\n",
    "top_features = corr_matrix['SalePrice'].abs().sort_values(ascending=False).head(11).index\n",
    "print(top_features)"
   ]
  },
  {
   "cell_type": "code",
   "execution_count": 9,
   "id": "ffaae021",
   "metadata": {},
   "outputs": [],
   "source": [
    "X = train[top_features].drop('SalePrice', axis=1) # Exclude the target variable\n",
    "y = train['SalePrice']\n",
    "\n",
    "X_train, X_val, y_train, y_val = train_test_split(X, y, test_size=0.2, random_state=42)"
   ]
  },
  {
   "cell_type": "code",
   "execution_count": 10,
   "id": "562d286c",
   "metadata": {
    "scrolled": true
   },
   "outputs": [
    {
     "name": "stdout",
     "output_type": "stream",
     "text": [
      "Linear Regression RMSLE: 0.191803109046764\n",
      "Lasso RMSLE: 0.1918031087105276\n",
      "Random Forest RMSLE: 0.17917303543476454\n",
      "Gradient Boosting RMSLE: 0.17424701111391305\n"
     ]
    }
   ],
   "source": [
    "models = {\n",
    "    'Linear Regression': LinearRegression(),\n",
    "    'Lasso': Lasso(alpha=0.001, max_iter=10000),\n",
    "    'Random Forest': RandomForestRegressor(n_estimators=100, random_state=42),\n",
    "    'Gradient Boosting': GradientBoostingRegressor(n_estimators=100, random_state=42)\n",
    "}\n",
    "\n",
    "for name, model in models.items():\n",
    "    model.fit(X_train, y_train)\n",
    "    preds = model.predict(X_val)\n",
    "    rmsle = mean_squared_log_error(y_val, preds) ** 0.5\n",
    "    print(f'{name} RMSLE: {rmsle}')"
   ]
  },
  {
   "cell_type": "code",
   "execution_count": 12,
   "id": "a4069866",
   "metadata": {},
   "outputs": [
    {
     "name": "stdout",
     "output_type": "stream",
     "text": [
      "{'max_depth': 10, 'n_estimators': 300}\n"
     ]
    }
   ],
   "source": [
    "param_grid = {\n",
    "    'n_estimators': [100, 200, 300],\n",
    "    'max_depth': [None, 10, 20, 30]\n",
    "}\n",
    "\n",
    "grid_search = GridSearchCV(estimator=RandomForestRegressor(random_state=42), param_grid=param_grid, cv=5, scoring='neg_mean_squared_log_error')\n",
    "grid_search.fit(X, y)\n",
    "best_model = grid_search.best_estimator_\n",
    "print(grid_search.best_params_)"
   ]
  }
 ],
 "metadata": {
  "kernelspec": {
   "display_name": "mlops-env",
   "language": "python",
   "name": "mlops-env"
  },
  "language_info": {
   "codemirror_mode": {
    "name": "ipython",
    "version": 3
   },
   "file_extension": ".py",
   "mimetype": "text/x-python",
   "name": "python",
   "nbconvert_exporter": "python",
   "pygments_lexer": "ipython3",
   "version": "3.12.3"
  }
 },
 "nbformat": 4,
 "nbformat_minor": 5
}
